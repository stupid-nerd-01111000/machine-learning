{
 "cells": [
  {
   "cell_type": "markdown",
   "metadata": {},
   "source": [
    "#my first file"
   ]
  },
  {
   "cell_type": "code",
   "execution_count": 9,
   "metadata": {},
   "outputs": [
    {
     "name": "stdout",
     "output_type": "stream",
     "text": [
      "Requirement already satisfied: numpy in ./venv_ml/lib/python3.12/site-packages (2.2.1)\n",
      "Note: you may need to restart the kernel to use updated packages.\n"
     ]
    }
   ],
   "source": [
    "pip install numpy"
   ]
  },
  {
   "cell_type": "code",
   "execution_count": 6,
   "metadata": {},
   "outputs": [],
   "source": [
    "data = '0000000000000001111111110001111111111100111111111110011000100011001100010001100111110111110011110001111000111111111000001010101000000110101100000011111110000000000000000'"
   ]
  },
  {
   "cell_type": "code",
   "execution_count": 7,
   "metadata": {},
   "outputs": [],
   "source": [
    "def fun():\n",
    "    data_a = ''\n",
    "    n = 1\n",
    "    for i in data:\n",
    "        n += 1\n",
    "        if i == '0':\n",
    "            data_a += '@'\n",
    "        else:\n",
    "            data_a += ' '\n",
    "    return data_a\n",
    "\n"
   ]
  },
  {
   "cell_type": "code",
   "execution_count": 8,
   "metadata": {},
   "outputs": [
    {
     "name": "stdout",
     "output_type": "stream",
     "text": [
      "@@@@@@@@@@@@@@@         @@@           @@           @@  @@@ @@@  @@  @@@ @@@  @@     @     @@    @@@    @@@         @@@@@ @ @ @ @@@@@@  @ @  @@@@@@       @@@@@@@@@@@@@@@@\n"
     ]
    }
   ],
   "source": [
    "ss = fun()\n",
    "print(ss)"
   ]
  }
 ],
 "metadata": {
  "kernelspec": {
   "display_name": "venv_ml",
   "language": "python",
   "name": "python3"
  },
  "language_info": {
   "codemirror_mode": {
    "name": "ipython",
    "version": 3
   },
   "file_extension": ".py",
   "mimetype": "text/x-python",
   "name": "python",
   "nbconvert_exporter": "python",
   "pygments_lexer": "ipython3",
   "version": "3.12.3"
  }
 },
 "nbformat": 4,
 "nbformat_minor": 2
}
